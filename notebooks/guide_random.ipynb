{
 "cells": [
  {
   "cell_type": "markdown",
   "id": "prescription-allah",
   "metadata": {},
   "source": [
    "# Stochastic processes and reproducibility"
   ]
  },
  {
   "cell_type": "raw",
   "id": "printable-fraud",
   "metadata": {
    "raw_mimetype": "text/restructuredtext"
   },
   "source": [
    "Random numbers and stochastic processes are essential to many agent-based models.\n",
    "Agentpy models have an internal pseudo-random number generator :obj:`Model.random`, based on :class:`numpy.random.Generator`.\n",
    "\n",
    "Pseudo-random means that this module generates numbers in a sequence that appears random but is actually deterministic, based on an initial seed value.\n",
    "In other words, the generator will produce the same pseudo-random sequence over multiple runs if it is given the same seed at the beginning.\n",
    "We can define this seed to receive reproducible results from a model with stochastic processes."
   ]
  },
  {
   "cell_type": "markdown",
   "id": "geological-excerpt",
   "metadata": {},
   "source": [
    "## Generating random numbers"
   ]
  },
  {
   "cell_type": "code",
   "execution_count": 1,
   "id": "dynamic-segment",
   "metadata": {},
   "outputs": [],
   "source": [
    "import agentpy as ap\n",
    "import numpy as np"
   ]
  },
  {
   "cell_type": "markdown",
   "id": "employed-behavior",
   "metadata": {},
   "source": [
    "To illustrate, let us define a model that generates a list of ten pseudo-random numbers:"
   ]
  },
  {
   "cell_type": "code",
   "execution_count": 2,
   "id": "operating-tribe",
   "metadata": {},
   "outputs": [],
   "source": [
    "class RandomModel(ap.Model):\n",
    "    \n",
    "    def setup(self):\n",
    "        self.random_numbers = [self.random.integers(9) for _ in range(10)]\n",
    "        print(f\"Model {self.p.n} generated the numbers {self.random_numbers}\")"
   ]
  },
  {
   "cell_type": "markdown",
   "id": "joined-labor",
   "metadata": {},
   "source": [
    "Now if we run this model multiple times, we will get a different series of numbers:"
   ]
  },
  {
   "cell_type": "code",
   "execution_count": 3,
   "id": "separated-destiny",
   "metadata": {},
   "outputs": [
    {
     "name": "stdout",
     "output_type": "stream",
     "text": [
      "Model 0 generated the numbers [8, 2, 7, 7, 3, 4, 0, 1, 5, 1]\n",
      "Model 1 generated the numbers [0, 7, 2, 8, 3, 4, 2, 3, 1, 2]\n"
     ]
    }
   ],
   "source": [
    "for i in range(2):\n",
    "    parameters = {'steps':0, 'n':i}\n",
    "    model = RandomModel(parameters)\n",
    "    results = model.run(display=False)"
   ]
  },
  {
   "cell_type": "raw",
   "id": "twenty-comedy",
   "metadata": {
    "raw_mimetype": "text/restructuredtext"
   },
   "source": [
    "If we want the results to be reproducible, \n",
    "we can define a parameter :attr:`seed` that will be used automatically at the beginning of :func:`Model.run`.\n",
    "Now, we get the same series of numbers:"
   ]
  },
  {
   "cell_type": "code",
   "execution_count": 4,
   "id": "close-conversion",
   "metadata": {},
   "outputs": [
    {
     "name": "stdout",
     "output_type": "stream",
     "text": [
      "Model 0 generated the numbers [4, 4, 6, 8, 0, 1, 7, 8, 2, 2]\n",
      "Model 1 generated the numbers [4, 4, 6, 8, 0, 1, 7, 8, 2, 2]\n"
     ]
    }
   ],
   "source": [
    "for i in range(2):\n",
    "    parameters = {'seed':1, 'steps':0, 'n':i}\n",
    "    model = RandomModel(parameters)\n",
    "    model.run(display=False)"
   ]
  },
  {
   "cell_type": "markdown",
   "id": "conditional-regular",
   "metadata": {},
   "source": [
    "## Using multiple generators"
   ]
  },
  {
   "cell_type": "raw",
   "id": "local-baseline",
   "metadata": {
    "raw_mimetype": "text/restructuredtext"
   },
   "source": [
    "The automatic use of the :attr:`seed` parameter seeds a new number generator at the beginning of the simulation.\n",
    "For more advanced applications, we can create seperate generators for each object, using :func:`numpy.random.default_rng`.\n",
    "We can ensure that the seeds of each object follow a controlled pseudo-random sequence by using the models' main generator to generate the seeds."
   ]
  },
  {
   "cell_type": "code",
   "execution_count": 5,
   "id": "ready-stone",
   "metadata": {},
   "outputs": [
    {
     "name": "stdout",
     "output_type": "stream",
     "text": [
      "Model 0:\n",
      "RandomAgent2 (Obj 1) generated the numbers [5, 7, 3, 8, 8, 6, 2, 2, 0, 6]\n",
      "RandomAgent2 (Obj 2) generated the numbers [8, 7, 4, 2, 3, 2, 4, 3, 6, 3]\n",
      "\n",
      "Model 1:\n",
      "RandomAgent2 (Obj 1) generated the numbers [5, 7, 3, 8, 8, 6, 2, 2, 0, 6]\n",
      "RandomAgent2 (Obj 2) generated the numbers [8, 7, 4, 2, 3, 2, 4, 3, 6, 3]\n",
      "\n"
     ]
    }
   ],
   "source": [
    "class RandomAgent2(ap.Agent):\n",
    "    \n",
    "    def setup(self):\n",
    "        seed = self.model.random.bit_generator.random_raw() # Seed from model\n",
    "        self.random = np.random.default_rng(seed)  # Create agent generator\n",
    "        self.random_numbers = [self.random.integers(9) for _ in range(10)]\n",
    "        print(f\"{self} generated the numbers {self.random_numbers}\")\n",
    "        \n",
    "class RandomModel2(ap.Model):\n",
    "    \n",
    "    def setup(self):\n",
    "        print(f\"Model {i}:\")\n",
    "        self.add_agents(2, RandomAgent2)\n",
    "        print()\n",
    "\n",
    "for i in range(2):\n",
    "    parameters = {'seed': 1, 'steps': 0}\n",
    "    model = RandomModel2(parameters)\n",
    "    results = model.run(display=False)"
   ]
  },
  {
   "cell_type": "markdown",
   "id": "mighty-television",
   "metadata": {},
   "source": [
    "Alternatively, we could also have each agent start from the same seed:"
   ]
  },
  {
   "cell_type": "code",
   "execution_count": 6,
   "id": "round-robin",
   "metadata": {},
   "outputs": [
    {
     "name": "stdout",
     "output_type": "stream",
     "text": [
      "\n",
      "Model 0:\n",
      "RandomAgent3 (Obj 1) generated the numbers [4, 4, 6, 8, 0, 1, 7, 8, 2, 2]\n",
      "RandomAgent3 (Obj 2) generated the numbers [4, 4, 6, 8, 0, 1, 7, 8, 2, 2]\n",
      "\n",
      "Model 1:\n",
      "RandomAgent3 (Obj 1) generated the numbers [4, 4, 6, 8, 0, 1, 7, 8, 2, 2]\n",
      "RandomAgent3 (Obj 2) generated the numbers [4, 4, 6, 8, 0, 1, 7, 8, 2, 2]\n"
     ]
    }
   ],
   "source": [
    "class RandomAgent3(ap.Agent):\n",
    "    \n",
    "    def setup(self):\n",
    "        self.random = np.random.default_rng(self.p.agent_seed)\n",
    "        self.random_numbers = [self.random.integers(9) for _ in range(10)]\n",
    "        print(f\"{self} generated the numbers {self.random_numbers}\")\n",
    "        \n",
    "class RandomModel3(ap.Model):\n",
    "    \n",
    "    def setup(self):\n",
    "        print(f\"\\nModel {i}:\")\n",
    "        self.add_agents(2, RandomAgent3)\n",
    "        \n",
    "for i in range(2):\n",
    "    parameters = {'agent_seed': 1, 'steps':0, 'n':i}\n",
    "    model = RandomModel3(parameters)\n",
    "    results = model.run(display=False)"
   ]
  },
  {
   "cell_type": "markdown",
   "id": "angry-banner",
   "metadata": {},
   "source": [
    "## Modeling stochastic processes"
   ]
  },
  {
   "cell_type": "markdown",
   "id": "every-nothing",
   "metadata": {},
   "source": [
    "This section presents some stochastic operations that are often used in agent-based models. To start, we prepare a generic model with ten agents:"
   ]
  },
  {
   "cell_type": "code",
   "execution_count": 7,
   "id": "renewable-northwest",
   "metadata": {},
   "outputs": [
    {
     "data": {
      "text/plain": [
       "AgentList [9 agents]"
      ]
     },
     "execution_count": 7,
     "metadata": {},
     "output_type": "execute_result"
    }
   ],
   "source": [
    "model = ap.Model()\n",
    "agents = model.add_agents(9)\n",
    "agents"
   ]
  },
  {
   "cell_type": "markdown",
   "id": "swedish-forge",
   "metadata": {},
   "source": [
    "If we look at the agent's ids, we see that they have been created in order:"
   ]
  },
  {
   "cell_type": "code",
   "execution_count": 8,
   "id": "furnished-melissa",
   "metadata": {},
   "outputs": [
    {
     "data": {
      "text/plain": [
       "AttrList of attribute 'id': [1, 2, 3, 4, 5, 6, 7, 8, 9]"
      ]
     },
     "execution_count": 8,
     "metadata": {},
     "output_type": "execute_result"
    }
   ],
   "source": [
    "agents.id"
   ]
  },
  {
   "cell_type": "raw",
   "id": "complimentary-pepper",
   "metadata": {
    "raw_mimetype": "text/restructuredtext"
   },
   "source": [
    "We can shuffle this list with :func:`AgentList.shuffle`:"
   ]
  },
  {
   "cell_type": "code",
   "execution_count": 9,
   "id": "colored-ferry",
   "metadata": {},
   "outputs": [
    {
     "data": {
      "text/plain": [
       "AttrList of attribute 'id': [1, 3, 5, 8, 9, 4, 6, 7, 2]"
      ]
     },
     "execution_count": 9,
     "metadata": {},
     "output_type": "execute_result"
    }
   ],
   "source": [
    "agents.shuffle().id"
   ]
  },
  {
   "cell_type": "raw",
   "id": "spectacular-spare",
   "metadata": {
    "raw_mimetype": "text/restructuredtext"
   },
   "source": [
    "Or create a random subset with :func:`AgentList.random`:"
   ]
  },
  {
   "cell_type": "code",
   "execution_count": 10,
   "id": "introductory-ethics",
   "metadata": {},
   "outputs": [
    {
     "data": {
      "text/plain": [
       "AttrList of attribute 'id': [6, 3, 1, 2, 9]"
      ]
     },
     "execution_count": 10,
     "metadata": {},
     "output_type": "execute_result"
    }
   ],
   "source": [
    "agents.random(5).id"
   ]
  },
  {
   "cell_type": "raw",
   "id": "accepted-temple",
   "metadata": {
    "raw_mimetype": "text/restructuredtext"
   },
   "source": [
    "Both :func:`AgentList.shuffle` and :func:`AgentList.random` use the models' random number generator. Alternatively, they can also take a custom generator as an argument:"
   ]
  },
  {
   "cell_type": "code",
   "execution_count": 11,
   "id": "loose-bearing",
   "metadata": {},
   "outputs": [
    {
     "name": "stdout",
     "output_type": "stream",
     "text": [
      "AttrList of attribute 'id': [4, 6, 3, 8, 6]\n",
      "AttrList of attribute 'id': [3, 1, 4, 5, 1]\n"
     ]
    }
   ],
   "source": [
    "for _ in range(2):\n",
    "    custom_generator = np.random.default_rng(1)\n",
    "    print(agents.random(5, custom_generator).id)"
   ]
  },
  {
   "cell_type": "raw",
   "id": "changed-roommate",
   "metadata": {
    "raw_mimetype": "text/restructuredtext"
   },
   "source": [
    "Note that the above selection is without repetition, i.e. every agent can only selected once. Custom keywords for :func:`numpy.random.Generator.choice` can be passed to the AgentList (see reference for :func:`AgentList.random`). \n",
    "\n",
    "To give an example, the following code creates a random selection with repetition and unequal weights, so that agents with a higher id are more likely to be chosen:"
   ]
  },
  {
   "cell_type": "code",
   "execution_count": 12,
   "id": "monthly-middle",
   "metadata": {},
   "outputs": [
    {
     "data": {
      "text/plain": [
       "AttrList of attribute 'id': [8, 5, 5, 7, 1, 5, 6, 7, 8, 1]"
      ]
     },
     "execution_count": 12,
     "metadata": {},
     "output_type": "execute_result"
    }
   ],
   "source": [
    "i_sum = sum(agents.id)\n",
    "weights = [i/i_sum for i in agents.id]\n",
    "agents.random(10, weights=weights, replace=True).id"
   ]
  },
  {
   "cell_type": "markdown",
   "id": "applicable-wages",
   "metadata": {},
   "source": [
    "## Further reading"
   ]
  },
  {
   "cell_type": "markdown",
   "id": "urban-dating",
   "metadata": {},
   "source": [
    "- Random number generation in Python:  \n",
    "  https://realpython.com/python-random/\n",
    "- Random sampling in Numpy:  \n",
    "  https://numpy.org/devdocs/reference/random/index.html\n",
    "- Stochasticity in agent-based models:  \n",
    "  http://www2.econ.iastate.edu/tesfatsi/ace.htm#Stochasticity\n",
    "- Pseudo-random number generators:  \n",
    "  https://en.wikipedia.org/wiki/Pseudorandom_number_generator\n",
    "- What is random:  \n",
    "  https://www.youtube.com/watch?v=9rIy0xY99a0"
   ]
  }
 ],
 "metadata": {
  "kernelspec": {
   "display_name": "Python 3",
   "language": "python",
   "name": "python3"
  },
  "language_info": {
   "codemirror_mode": {
    "name": "ipython",
    "version": 3
   },
   "file_extension": ".py",
   "mimetype": "text/x-python",
   "name": "python",
   "nbconvert_exporter": "python",
   "pygments_lexer": "ipython3",
   "version": "3.8.5"
  },
  "toc-autonumbering": false,
  "toc-showcode": false,
  "toc-showmarkdowntxt": false
 },
 "nbformat": 4,
 "nbformat_minor": 5
}
